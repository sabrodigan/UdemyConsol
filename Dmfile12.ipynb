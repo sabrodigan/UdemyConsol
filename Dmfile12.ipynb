{
 "cells": [
  {
   "cell_type": "code",
   "execution_count": null,
   "metadata": {},
   "outputs": [],
   "source": [
    "print ('hello world')\n"
   ]
  },
  {
   "cell_type": "code",
   "execution_count": 3,
   "metadata": {},
   "outputs": [
    {
     "data": {
      "text/plain": [
       "6.8059701492537314"
      ]
     },
     "execution_count": 3,
     "metadata": {},
     "output_type": "execute_result"
    }
   ],
   "source": [
    "789-98\n",
    "456/67"
   ]
  },
  {
   "cell_type": "code",
   "execution_count": null,
   "metadata": {},
   "outputs": [],
   "source": []
  },
  {
   "cell_type": "code",
   "execution_count": null,
   "metadata": {},
   "outputs": [],
   "source": [
    "print ('This is a juypter notebook')\n",
    "my_num1 = int (input ('What is the number?'))\n",
    "my_result = my_num1 / 23\n",
    "print (my_result)"
   ]
  },
  {
   "cell_type": "code",
   "execution_count": 7,
   "metadata": {},
   "outputs": [
    {
     "name": "stdout",
     "output_type": "stream",
     "text": [
      "What number do you want to work with?1000\n",
      "Man you sent me a big number 1000\n",
      "\n",
      "Thank you for calling your_num\n",
      "I will now work some magic with the number you passed\n",
      "500.0\n"
     ]
    }
   ],
   "source": [
    "# Not sure having to press the plus key to get a new In is very cool\n",
    "\n",
    "def your_num(x):\n",
    "    if x > 999:\n",
    "        print ('Man you sent me a big number',x)\n",
    "    print ('\\nThank you for calling your_num')\n",
    "    print ('I will now work some magic with the number you passed')\n",
    "    y = x /2\n",
    "    print (y)\n",
    "    \n",
    "z = int (input ('What number do you want to work with?'))\n",
    "\n",
    "your_num(z)\n"
   ]
  }
 ],
 "metadata": {
  "kernelspec": {
   "display_name": "Python 3",
   "language": "python",
   "name": "python3"
  },
  "language_info": {
   "codemirror_mode": {
    "name": "ipython",
    "version": 3
   },
   "file_extension": ".py",
   "mimetype": "text/x-python",
   "name": "python",
   "nbconvert_exporter": "python",
   "pygments_lexer": "ipython3",
   "version": "3.6.6+"
  }
 },
 "nbformat": 4,
 "nbformat_minor": 2
}
