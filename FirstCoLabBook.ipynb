{
 "cells": [
  {
   "cell_type": "markdown",
   "metadata": {
    "colab_type": "text",
    "id": "view-in-github"
   },
   "source": [
    "<a href=\"https://colab.research.google.com/github/sabrodigan/UdemyConsol/blob/master/FirstCoLabBook.ipynb\" target=\"_parent\"><img src=\"https://colab.research.google.com/assets/colab-badge.svg\" alt=\"Open In Colab\"/></a>"
   ]
  },
  {
   "cell_type": "code",
   "execution_count": 0,
   "metadata": {
    "colab": {},
    "colab_type": "code",
    "id": "2G9xUISQaAIp"
   },
   "outputs": [],
   "source": []
  },
  {
   "cell_type": "markdown",
   "metadata": {
    "colab_type": "text",
    "id": "CBmEC0agaG-4"
   },
   "source": [
    "This is my first ever Google Co Lab book and it obviously cometes with Jupyter Notebook"
   ]
  },
  {
   "cell_type": "code",
   "execution_count": 0,
   "metadata": {
    "colab": {},
    "colab_type": "code",
    "id": "7N5C7jwSaNUg"
   },
   "outputs": [],
   "source": []
  },
  {
   "cell_type": "code",
   "execution_count": 0,
   "metadata": {
    "colab": {
     "base_uri": "https://localhost:8080/",
     "height": 35
    },
    "colab_type": "code",
    "id": "i5CGmRCDaOOw",
    "outputId": "bdb77e44-8297-409c-8f1b-292c6d35309f"
   },
   "outputs": [
    {
     "name": "stdout",
     "output_type": "stream",
     "text": [
      "Hello World\n"
     ]
    }
   ],
   "source": [
    "print('Hello World')"
   ]
  },
  {
   "cell_type": "code",
   "execution_count": 1,
   "metadata": {
    "colab": {},
    "colab_type": "code",
    "id": "5A4AsrCXaQma"
   },
   "outputs": [],
   "source": [
    "student_tuples = {\n",
    "    ('Stephen','C',51),\n",
    "    ('Nella','A',47),\n",
    "    ('Martha','A',15),\n",
    "    ('Leia','C',13),\n",
    "    ('Tilly','E',11)\n",
    "}"
   ]
  },
  {
   "cell_type": "code",
   "execution_count": 2,
   "metadata": {
    "colab": {
     "base_uri": "https://localhost:8080/",
     "height": 107
    },
    "colab_type": "code",
    "id": "dEuKDnygakYV",
    "outputId": "81293e01-ec5b-47d0-91eb-fa26d92d060b"
   },
   "outputs": [
    {
     "data": {
      "text/plain": [
       "{('Leia', 'C', 13),\n",
       " ('Martha', 'A', 15),\n",
       " ('Nella', 'A', 47),\n",
       " ('Stephen', 'C', 51),\n",
       " ('Tilly', 'E', 11)}"
      ]
     },
     "execution_count": 2,
     "metadata": {},
     "output_type": "execute_result"
    }
   ],
   "source": [
    "student_tuples"
   ]
  },
  {
   "cell_type": "code",
   "execution_count": 5,
   "metadata": {
    "colab": {
     "base_uri": "https://localhost:8080/",
     "height": 169
    },
    "colab_type": "code",
    "id": "Glaskvk0amA_",
    "outputId": "2defd95c-f71c-4910-cc87-7a6053726592"
   },
   "outputs": [
    {
     "ename": "SyntaxError",
     "evalue": "invalid syntax (<ipython-input-5-dd3afc4e4e61>, line 1)",
     "output_type": "error",
     "traceback": [
      "\u001b[0;36m  File \u001b[0;32m\"<ipython-input-5-dd3afc4e4e61>\"\u001b[0;36m, line \u001b[0;32m1\u001b[0m\n\u001b[0;31m    sorted(int()student_tuples, key=(1)))\u001b[0m\n\u001b[0m                             ^\u001b[0m\n\u001b[0;31mSyntaxError\u001b[0m\u001b[0;31m:\u001b[0m invalid syntax\n"
     ]
    }
   ],
   "source": [
    "sorted(int()student_tuples, key=(1)))"
   ]
  },
  {
   "cell_type": "code",
   "execution_count": 6,
   "metadata": {
    "colab": {},
    "colab_type": "code",
    "id": "RABZIml7bKNX"
   },
   "outputs": [],
   "source": [
    "my_string = 'This is a string full of text and I will do some work on it'"
   ]
  },
  {
   "cell_type": "code",
   "execution_count": 7,
   "metadata": {
    "colab": {
     "base_uri": "https://localhost:8080/",
     "height": 34
    },
    "colab_type": "code",
    "id": "7-CEo4rafdnK",
    "outputId": "495b5fca-1ed4-4cb5-c288-6a2c0f9f8eb0"
   },
   "outputs": [
    {
     "name": "stdout",
     "output_type": "stream",
     "text": [
      "This is a string full of text and I will do some work on it\n"
     ]
    }
   ],
   "source": [
    "print(my_string)"
   ]
  },
  {
   "cell_type": "code",
   "execution_count": 8,
   "metadata": {
    "colab": {
     "base_uri": "https://localhost:8080/",
     "height": 272
    },
    "colab_type": "code",
    "id": "KAeCU7Z9fgwc",
    "outputId": "d738ef8e-ee9e-4f14-cc41-474f953941e6"
   },
   "outputs": [
    {
     "name": "stdout",
     "output_type": "stream",
     "text": [
      "This\n",
      "is\n",
      "a\n",
      "Got the S\n",
      "full\n",
      "of\n",
      "text\n",
      "and\n",
      "I\n",
      "will\n",
      "do\n",
      "Got the S\n",
      "work\n",
      "on\n",
      "it\n"
     ]
    }
   ],
   "source": [
    "for word in my_string.split():\n",
    "  if word [0] == 's':\n",
    "    print('Got the S')\n",
    "  else:\n",
    "    print(word)  "
   ]
  },
  {
   "cell_type": "code",
   "execution_count": 14,
   "metadata": {
    "colab": {
     "base_uri": "https://localhost:8080/",
     "height": 272
    },
    "colab_type": "code",
    "id": "cNIbiOsJfmY7",
    "outputId": "60de13ca-15fe-4056-e6f9-982d7b570ed3"
   },
   "outputs": [
    {
     "name": "stdout",
     "output_type": "stream",
     "text": [
      "This, contains an even number of letters\n",
      "is, contains an even number of letters\n",
      "a, contains an odd number of letters\n",
      "string, contains an even number of letters\n",
      "full, contains an even number of letters\n",
      "of, contains an even number of letters\n",
      "text, contains an even number of letters\n",
      "and, contains an odd number of letters\n",
      "I, contains an odd number of letters\n",
      "will, contains an even number of letters\n",
      "do, contains an even number of letters\n",
      "some, contains an even number of letters\n",
      "work, contains an even number of letters\n",
      "on, contains an even number of letters\n",
      "it, contains an even number of letters\n"
     ]
    }
   ],
   "source": [
    "my_string = 'This is a string full of text and I will do some work on it'\n",
    "\n",
    "for word in my_string.split():\n",
    "  if len(word)%2 == 0:\n",
    "    print(f'{word}, contains an even number of letters')\n",
    "  else:\n",
    "    print(f'{word}, contains an odd number of letters')"
   ]
  },
  {
   "cell_type": "code",
   "execution_count": 15,
   "metadata": {
    "colab": {
     "base_uri": "https://localhost:8080/",
     "height": 34
    },
    "colab_type": "code",
    "id": "iHtuqev6gKHT",
    "outputId": "90d60234-bf4e-424b-911d-629c00b83549"
   },
   "outputs": [
    {
     "data": {
      "text/plain": [
       "'this is a string full of text and i will do some work on it'"
      ]
     },
     "execution_count": 15,
     "metadata": {
      "tags": []
     },
     "output_type": "execute_result"
    }
   ],
   "source": [
    "my_string.casefold()"
   ]
  },
  {
   "cell_type": "code",
   "execution_count": 16,
   "metadata": {
    "colab": {
     "base_uri": "https://localhost:8080/",
     "height": 34
    },
    "colab_type": "code",
    "id": "MtvjtUcCgzwV",
    "outputId": "81207be7-8d2c-4b10-d352-641ebd251e4b"
   },
   "outputs": [
    {
     "data": {
      "text/plain": [
       "'This is a string full of text and I will do some work on it'"
      ]
     },
     "execution_count": 16,
     "metadata": {
      "tags": []
     },
     "output_type": "execute_result"
    }
   ],
   "source": [
    "my_string"
   ]
  },
  {
   "cell_type": "code",
   "execution_count": 9,
   "metadata": {
    "colab": {
     "base_uri": "https://localhost:8080/",
     "height": 34
    },
    "colab_type": "code",
    "id": "9MAXhslbg2DR",
    "outputId": "754adae6-9568-414f-c37d-6fa3c42ac530"
   },
   "outputs": [
    {
     "data": {
      "text/plain": [
       "'ThiS iS a String full of text and I will do Some work on it'"
      ]
     },
     "execution_count": 9,
     "metadata": {},
     "output_type": "execute_result"
    }
   ],
   "source": [
    "my_string.replace('s','S')"
   ]
  },
  {
   "cell_type": "code",
   "execution_count": 0,
   "metadata": {
    "colab": {},
    "colab_type": "code",
    "id": "rBSQQSJ2g4tM"
   },
   "outputs": [],
   "source": [
    "my_list = my_string.rsplit()"
   ]
  },
  {
   "cell_type": "code",
   "execution_count": 24,
   "metadata": {
    "colab": {
     "base_uri": "https://localhost:8080/",
     "height": 272
    },
    "colab_type": "code",
    "id": "crBrP5WGhPrr",
    "outputId": "73d798dd-520d-46e8-ead0-031b7cb19428"
   },
   "outputs": [
    {
     "data": {
      "text/plain": [
       "['This',\n",
       " 'is',\n",
       " 'a',\n",
       " 'string',\n",
       " 'full',\n",
       " 'of',\n",
       " 'text',\n",
       " 'and',\n",
       " 'I',\n",
       " 'will',\n",
       " 'do',\n",
       " 'some',\n",
       " 'work',\n",
       " 'on',\n",
       " 'it']"
      ]
     },
     "execution_count": 24,
     "metadata": {
      "tags": []
     },
     "output_type": "execute_result"
    }
   ],
   "source": [
    "my_list"
   ]
  },
  {
   "cell_type": "code",
   "execution_count": 0,
   "metadata": {
    "colab": {},
    "colab_type": "code",
    "id": "-yByfS3AhU1L"
   },
   "outputs": [],
   "source": [
    "my_evenlist = []\n",
    "my_oddlist = []\n",
    "for word in my_list:\n",
    "  if len(word)%2 == 0:\n",
    "    my_evenlist.append(word)\n",
    "  else:\n",
    "    my_oddlist.append(word)\n",
    "  "
   ]
  },
  {
   "cell_type": "code",
   "execution_count": 31,
   "metadata": {
    "colab": {
     "base_uri": "https://localhost:8080/",
     "height": 221
    },
    "colab_type": "code",
    "id": "cXtUW4SwhbD2",
    "outputId": "906e7ae7-0548-478e-ede5-926ccb1352af"
   },
   "outputs": [
    {
     "data": {
      "text/plain": [
       "['This',\n",
       " 'is',\n",
       " 'string',\n",
       " 'full',\n",
       " 'of',\n",
       " 'text',\n",
       " 'will',\n",
       " 'do',\n",
       " 'some',\n",
       " 'work',\n",
       " 'on',\n",
       " 'it']"
      ]
     },
     "execution_count": 31,
     "metadata": {
      "tags": []
     },
     "output_type": "execute_result"
    }
   ],
   "source": [
    "my_evenlist"
   ]
  },
  {
   "cell_type": "code",
   "execution_count": 32,
   "metadata": {
    "colab": {
     "base_uri": "https://localhost:8080/",
     "height": 34
    },
    "colab_type": "code",
    "id": "Cj0wkwzAhuyF",
    "outputId": "ecf1e1b3-042b-4b26-d71c-fcffeb3b4c06"
   },
   "outputs": [
    {
     "data": {
      "text/plain": [
       "['a', 'and', 'I']"
      ]
     },
     "execution_count": 32,
     "metadata": {
      "tags": []
     },
     "output_type": "execute_result"
    }
   ],
   "source": [
    "my_oddlist"
   ]
  },
  {
   "cell_type": "code",
   "execution_count": 0,
   "metadata": {
    "colab": {},
    "colab_type": "code",
    "id": "pAOqwXNbh-Di"
   },
   "outputs": [],
   "source": [
    "my_dict = ('k1',100,'k2',99,'k3',199)"
   ]
  },
  {
   "cell_type": "code",
   "execution_count": 37,
   "metadata": {
    "colab": {
     "base_uri": "https://localhost:8080/",
     "height": 34
    },
    "colab_type": "code",
    "id": "vR6SjUeJiUWq",
    "outputId": "a5f68a7b-b54a-4f4e-ebde-3ee6b8dd3e16"
   },
   "outputs": [
    {
     "data": {
      "text/plain": [
       "('k1', 100, 'k2', 99, 'k3', 199)"
      ]
     },
     "execution_count": 37,
     "metadata": {
      "tags": []
     },
     "output_type": "execute_result"
    }
   ],
   "source": [
    "my_dict\n"
   ]
  },
  {
   "cell_type": "code",
   "execution_count": 0,
   "metadata": {
    "colab": {},
    "colab_type": "code",
    "id": "bbXc9wjviVh4"
   },
   "outputs": [],
   "source": []
  }
 ],
 "metadata": {
  "colab": {
   "include_colab_link": true,
   "name": "FirstCoLabBook",
   "provenance": []
  },
  "kernelspec": {
   "display_name": "Python 3",
   "language": "python",
   "name": "python3"
  },
  "language_info": {
   "codemirror_mode": {
    "name": "ipython",
    "version": 3
   },
   "file_extension": ".py",
   "mimetype": "text/x-python",
   "name": "python",
   "nbconvert_exporter": "python",
   "pygments_lexer": "ipython3",
   "version": "3.6.6+"
  }
 },
 "nbformat": 4,
 "nbformat_minor": 1
}
