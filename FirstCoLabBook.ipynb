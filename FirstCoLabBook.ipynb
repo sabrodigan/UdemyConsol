{
  "nbformat": 4,
  "nbformat_minor": 0,
  "metadata": {
    "colab": {
      "name": "FirstCoLabBook",
      "provenance": [],
      "include_colab_link": true
    },
    "kernelspec": {
      "name": "python3",
      "display_name": "Python 3"
    }
  },
  "cells": [
    {
      "cell_type": "markdown",
      "metadata": {
        "id": "view-in-github",
        "colab_type": "text"
      },
      "source": [
        "<a href=\"https://colab.research.google.com/github/sabrodigan/UdemyConsol/blob/master/FirstCoLabBook.ipynb\" target=\"_parent\"><img src=\"https://colab.research.google.com/assets/colab-badge.svg\" alt=\"Open In Colab\"/></a>"
      ]
    },
    {
      "cell_type": "code",
      "metadata": {
        "id": "2G9xUISQaAIp",
        "colab_type": "code",
        "colab": {}
      },
      "source": [
        ""
      ],
      "execution_count": 0,
      "outputs": []
    },
    {
      "cell_type": "markdown",
      "metadata": {
        "id": "CBmEC0agaG-4",
        "colab_type": "text"
      },
      "source": [
        "This is my first ever Google Co Lab book and it obviously cometes with Jupyter Notebook"
      ]
    },
    {
      "cell_type": "code",
      "metadata": {
        "id": "7N5C7jwSaNUg",
        "colab_type": "code",
        "colab": {}
      },
      "source": [
        ""
      ],
      "execution_count": 0,
      "outputs": []
    },
    {
      "cell_type": "code",
      "metadata": {
        "id": "i5CGmRCDaOOw",
        "colab_type": "code",
        "outputId": "bdb77e44-8297-409c-8f1b-292c6d35309f",
        "colab": {
          "base_uri": "https://localhost:8080/",
          "height": 35
        }
      },
      "source": [
        "print('Hello World')"
      ],
      "execution_count": 0,
      "outputs": [
        {
          "output_type": "stream",
          "text": [
            "Hello World\n"
          ],
          "name": "stdout"
        }
      ]
    },
    {
      "cell_type": "code",
      "metadata": {
        "id": "5A4AsrCXaQma",
        "colab_type": "code",
        "colab": {}
      },
      "source": [
        "student_tuples = {\n",
        "    ('Stephen','C',51),\n",
        "    ('Nella','A',47),\n",
        "    ('Martha','A',15),\n",
        "    ('Leia','C',13),\n",
        "    ('Tilly','E',11)\n",
        "}"
      ],
      "execution_count": 0,
      "outputs": []
    },
    {
      "cell_type": "code",
      "metadata": {
        "id": "dEuKDnygakYV",
        "colab_type": "code",
        "outputId": "81293e01-ec5b-47d0-91eb-fa26d92d060b",
        "colab": {
          "base_uri": "https://localhost:8080/",
          "height": 107
        }
      },
      "source": [
        "student_tuples"
      ],
      "execution_count": 0,
      "outputs": [
        {
          "output_type": "execute_result",
          "data": {
            "text/plain": [
              "{('Leia', 'C', 13),\n",
              " ('Martha', 'A', 15),\n",
              " ('Nella', 'A', 47),\n",
              " ('Stephen', 'C', 51),\n",
              " ('Tilly', 'E', 11)}"
            ]
          },
          "metadata": {
            "tags": []
          },
          "execution_count": 3
        }
      ]
    },
    {
      "cell_type": "code",
      "metadata": {
        "id": "Glaskvk0amA_",
        "colab_type": "code",
        "outputId": "2defd95c-f71c-4910-cc87-7a6053726592",
        "colab": {
          "base_uri": "https://localhost:8080/",
          "height": 169
        }
      },
      "source": [
        "sorted(student_tuples, key=(1))"
      ],
      "execution_count": 0,
      "outputs": [
        {
          "output_type": "error",
          "ename": "TypeError",
          "evalue": "ignored",
          "traceback": [
            "\u001b[0;31m---------------------------------------------------------------------------\u001b[0m",
            "\u001b[0;31mTypeError\u001b[0m                                 Traceback (most recent call last)",
            "\u001b[0;32m<ipython-input-4-0156afc016dc>\u001b[0m in \u001b[0;36m<module>\u001b[0;34m()\u001b[0m\n\u001b[0;32m----> 1\u001b[0;31m \u001b[0msorted\u001b[0m\u001b[0;34m(\u001b[0m\u001b[0mstudent_tuples\u001b[0m\u001b[0;34m,\u001b[0m \u001b[0mkey\u001b[0m\u001b[0;34m=\u001b[0m\u001b[0;34m(\u001b[0m\u001b[0;36m1\u001b[0m\u001b[0;34m)\u001b[0m\u001b[0;34m)\u001b[0m\u001b[0;34m\u001b[0m\u001b[0;34m\u001b[0m\u001b[0m\n\u001b[0m",
            "\u001b[0;31mTypeError\u001b[0m: 'int' object is not callable"
          ]
        }
      ]
    },
    {
      "cell_type": "code",
      "metadata": {
        "id": "RABZIml7bKNX",
        "colab_type": "code",
        "colab": {}
      },
      "source": [
        "my_string = 'This is a string full of text and I will do some work on it'"
      ],
      "execution_count": 0,
      "outputs": []
    },
    {
      "cell_type": "code",
      "metadata": {
        "id": "7-CEo4rafdnK",
        "colab_type": "code",
        "colab": {
          "base_uri": "https://localhost:8080/",
          "height": 34
        },
        "outputId": "495b5fca-1ed4-4cb5-c288-6a2c0f9f8eb0"
      },
      "source": [
        "print(my_string)"
      ],
      "execution_count": 6,
      "outputs": [
        {
          "output_type": "stream",
          "text": [
            "This is a string full of text and I will do some work on it\n"
          ],
          "name": "stdout"
        }
      ]
    },
    {
      "cell_type": "code",
      "metadata": {
        "id": "KAeCU7Z9fgwc",
        "colab_type": "code",
        "colab": {
          "base_uri": "https://localhost:8080/",
          "height": 272
        },
        "outputId": "d738ef8e-ee9e-4f14-cc41-474f953941e6"
      },
      "source": [
        "for word in my_string.split():\n",
        "  if word [0] == 's':\n",
        "    print('Got the S')\n",
        "  else:\n",
        "    print(word)  "
      ],
      "execution_count": 9,
      "outputs": [
        {
          "output_type": "stream",
          "text": [
            "This\n",
            "is\n",
            "a\n",
            "Got the S\n",
            "full\n",
            "of\n",
            "text\n",
            "and\n",
            "I\n",
            "will\n",
            "do\n",
            "Got the S\n",
            "work\n",
            "on\n",
            "it\n"
          ],
          "name": "stdout"
        }
      ]
    },
    {
      "cell_type": "code",
      "metadata": {
        "id": "cNIbiOsJfmY7",
        "colab_type": "code",
        "colab": {
          "base_uri": "https://localhost:8080/",
          "height": 272
        },
        "outputId": "60de13ca-15fe-4056-e6f9-982d7b570ed3"
      },
      "source": [
        "my_string = 'This is a string full of text and I will do some work on it'\n",
        "\n",
        "for word in my_string.split():\n",
        "  if len(word)%2 == 0:\n",
        "    print(f'{word}, contains an even number of letters')\n",
        "  else:\n",
        "    print(f'{word}, contains an odd number of letters')"
      ],
      "execution_count": 14,
      "outputs": [
        {
          "output_type": "stream",
          "text": [
            "This, contains an even number of letters\n",
            "is, contains an even number of letters\n",
            "a, contains an odd number of letters\n",
            "string, contains an even number of letters\n",
            "full, contains an even number of letters\n",
            "of, contains an even number of letters\n",
            "text, contains an even number of letters\n",
            "and, contains an odd number of letters\n",
            "I, contains an odd number of letters\n",
            "will, contains an even number of letters\n",
            "do, contains an even number of letters\n",
            "some, contains an even number of letters\n",
            "work, contains an even number of letters\n",
            "on, contains an even number of letters\n",
            "it, contains an even number of letters\n"
          ],
          "name": "stdout"
        }
      ]
    },
    {
      "cell_type": "code",
      "metadata": {
        "id": "iHtuqev6gKHT",
        "colab_type": "code",
        "colab": {
          "base_uri": "https://localhost:8080/",
          "height": 34
        },
        "outputId": "90d60234-bf4e-424b-911d-629c00b83549"
      },
      "source": [
        "my_string.casefold()"
      ],
      "execution_count": 15,
      "outputs": [
        {
          "output_type": "execute_result",
          "data": {
            "text/plain": [
              "'this is a string full of text and i will do some work on it'"
            ]
          },
          "metadata": {
            "tags": []
          },
          "execution_count": 15
        }
      ]
    },
    {
      "cell_type": "code",
      "metadata": {
        "id": "MtvjtUcCgzwV",
        "colab_type": "code",
        "colab": {
          "base_uri": "https://localhost:8080/",
          "height": 34
        },
        "outputId": "81207be7-8d2c-4b10-d352-641ebd251e4b"
      },
      "source": [
        "my_string"
      ],
      "execution_count": 16,
      "outputs": [
        {
          "output_type": "execute_result",
          "data": {
            "text/plain": [
              "'This is a string full of text and I will do some work on it'"
            ]
          },
          "metadata": {
            "tags": []
          },
          "execution_count": 16
        }
      ]
    },
    {
      "cell_type": "code",
      "metadata": {
        "id": "9MAXhslbg2DR",
        "colab_type": "code",
        "colab": {
          "base_uri": "https://localhost:8080/",
          "height": 34
        },
        "outputId": "754adae6-9568-414f-c37d-6fa3c42ac530"
      },
      "source": [
        "my_string.replace('s','S')"
      ],
      "execution_count": 20,
      "outputs": [
        {
          "output_type": "execute_result",
          "data": {
            "text/plain": [
              "'ThiS iS a String full of text and I will do Some work on it'"
            ]
          },
          "metadata": {
            "tags": []
          },
          "execution_count": 20
        }
      ]
    },
    {
      "cell_type": "code",
      "metadata": {
        "id": "rBSQQSJ2g4tM",
        "colab_type": "code",
        "colab": {}
      },
      "source": [
        "my_list = my_string.rsplit()"
      ],
      "execution_count": 0,
      "outputs": []
    },
    {
      "cell_type": "code",
      "metadata": {
        "id": "crBrP5WGhPrr",
        "colab_type": "code",
        "colab": {
          "base_uri": "https://localhost:8080/",
          "height": 272
        },
        "outputId": "73d798dd-520d-46e8-ead0-031b7cb19428"
      },
      "source": [
        "my_list"
      ],
      "execution_count": 24,
      "outputs": [
        {
          "output_type": "execute_result",
          "data": {
            "text/plain": [
              "['This',\n",
              " 'is',\n",
              " 'a',\n",
              " 'string',\n",
              " 'full',\n",
              " 'of',\n",
              " 'text',\n",
              " 'and',\n",
              " 'I',\n",
              " 'will',\n",
              " 'do',\n",
              " 'some',\n",
              " 'work',\n",
              " 'on',\n",
              " 'it']"
            ]
          },
          "metadata": {
            "tags": []
          },
          "execution_count": 24
        }
      ]
    },
    {
      "cell_type": "code",
      "metadata": {
        "id": "-yByfS3AhU1L",
        "colab_type": "code",
        "colab": {}
      },
      "source": [
        "my_evenlist = []\n",
        "my_oddlist = []\n",
        "for word in my_list:\n",
        "  if len(word)%2 == 0:\n",
        "    my_evenlist.append(word)\n",
        "  else:\n",
        "    my_oddlist.append(word)\n",
        "  "
      ],
      "execution_count": 0,
      "outputs": []
    },
    {
      "cell_type": "code",
      "metadata": {
        "id": "cXtUW4SwhbD2",
        "colab_type": "code",
        "colab": {
          "base_uri": "https://localhost:8080/",
          "height": 221
        },
        "outputId": "906e7ae7-0548-478e-ede5-926ccb1352af"
      },
      "source": [
        "my_evenlist"
      ],
      "execution_count": 31,
      "outputs": [
        {
          "output_type": "execute_result",
          "data": {
            "text/plain": [
              "['This',\n",
              " 'is',\n",
              " 'string',\n",
              " 'full',\n",
              " 'of',\n",
              " 'text',\n",
              " 'will',\n",
              " 'do',\n",
              " 'some',\n",
              " 'work',\n",
              " 'on',\n",
              " 'it']"
            ]
          },
          "metadata": {
            "tags": []
          },
          "execution_count": 31
        }
      ]
    },
    {
      "cell_type": "code",
      "metadata": {
        "id": "Cj0wkwzAhuyF",
        "colab_type": "code",
        "colab": {
          "base_uri": "https://localhost:8080/",
          "height": 34
        },
        "outputId": "ecf1e1b3-042b-4b26-d71c-fcffeb3b4c06"
      },
      "source": [
        "my_oddlist"
      ],
      "execution_count": 32,
      "outputs": [
        {
          "output_type": "execute_result",
          "data": {
            "text/plain": [
              "['a', 'and', 'I']"
            ]
          },
          "metadata": {
            "tags": []
          },
          "execution_count": 32
        }
      ]
    },
    {
      "cell_type": "code",
      "metadata": {
        "id": "pAOqwXNbh-Di",
        "colab_type": "code",
        "colab": {}
      },
      "source": [
        "my_dict = ('k1',100,'k2',99,'k3',199)"
      ],
      "execution_count": 0,
      "outputs": []
    },
    {
      "cell_type": "code",
      "metadata": {
        "id": "vR6SjUeJiUWq",
        "colab_type": "code",
        "colab": {
          "base_uri": "https://localhost:8080/",
          "height": 34
        },
        "outputId": "a5f68a7b-b54a-4f4e-ebde-3ee6b8dd3e16"
      },
      "source": [
        "my_dict\n"
      ],
      "execution_count": 37,
      "outputs": [
        {
          "output_type": "execute_result",
          "data": {
            "text/plain": [
              "('k1', 100, 'k2', 99, 'k3', 199)"
            ]
          },
          "metadata": {
            "tags": []
          },
          "execution_count": 37
        }
      ]
    },
    {
      "cell_type": "code",
      "metadata": {
        "id": "bbXc9wjviVh4",
        "colab_type": "code",
        "colab": {}
      },
      "source": [
        ""
      ],
      "execution_count": 0,
      "outputs": []
    }
  ]
}