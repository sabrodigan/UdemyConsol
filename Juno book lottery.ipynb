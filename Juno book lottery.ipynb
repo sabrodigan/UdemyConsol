{
 "cells": [
  {
   "cell_type": "code",
   "execution_count": 1,
   "metadata": {},
   "outputs": [
    {
     "name": "stdout",
     "output_type": "stream",
     "text": [
      "hello, world\n"
     ]
    }
   ],
   "source": [
    "print('hello, world')"
   ]
  },
  {
   "cell_type": "code",
   "execution_count": 1,
   "metadata": {},
   "outputs": [
    {
     "name": "stdout",
     "output_type": "stream",
     "text": [
      "Picking your number\n",
      "Picking your number\n",
      "Picking your number\n",
      "Picking your number\n",
      "Picking your number\n",
      "Picking your number\n",
      "[56, 2, 44, 30, 11, 26]\n"
     ]
    }
   ],
   "source": [
    "from random import randint\n",
    "num_sel = 0\n",
    "my_results = []\n",
    "count = 0\n",
    "\n",
    "while count < 6:\n",
    "    num_sel = randint(1,60)\n",
    "    count += 1\n",
    "    print('Picking your number')\n",
    "    if num_sel not in my_results:\n",
    "        my_results.append(num_sel)\n",
    "    else:\n",
    "        count = count - 1\n",
    "        \n",
    "print(my_results)"
   ]
  },
  {
   "cell_type": "code",
   "execution_count": 8,
   "metadata": {},
   "outputs": [
    {
     "name": "stdout",
     "output_type": "stream",
     "text": [
      "['Hello', 'World,', 'all', 'of', 'a', 'sudden', 'I', 'am', 'getting', 'better', 'at', 'this']\n"
     ]
    },
    {
     "ename": "TypeError",
     "evalue": "'str' object is not callable",
     "output_type": "error",
     "traceback": [
      "\u001b[0;31m---------------------------------------------------------------------------\u001b[0m",
      "\u001b[0;31mTypeError\u001b[0m                                 Traceback (most recent call last)",
      "\u001b[0;32m<ipython-input-8-0e973ac4546d>\u001b[0m in \u001b[0;36m<module>\u001b[0;34m\u001b[0m\n\u001b[1;32m     13\u001b[0m \u001b[0;34m\u001b[0m\u001b[0m\n\u001b[1;32m     14\u001b[0m \u001b[0;34m\u001b[0m\u001b[0m\n\u001b[0;32m---> 15\u001b[0;31m \u001b[0;32mfor\u001b[0m \u001b[0my\u001b[0m \u001b[0;32min\u001b[0m \u001b[0mmy_string\u001b[0m\u001b[0;34m(\u001b[0m\u001b[0;34m)\u001b[0m\u001b[0;34m:\u001b[0m\u001b[0;34m\u001b[0m\u001b[0m\n\u001b[0m\u001b[1;32m     16\u001b[0m     \u001b[0mmylist\u001b[0m\u001b[0;34m.\u001b[0m\u001b[0mappend\u001b[0m\u001b[0;34m(\u001b[0m\u001b[0mx\u001b[0m\u001b[0;34m)\u001b[0m\u001b[0;34m\u001b[0m\u001b[0m\n",
      "\u001b[0;31mTypeError\u001b[0m: 'str' object is not callable"
     ]
    }
   ],
   "source": [
    "# another remark\n",
    "# I want to see if I can switch this into dark mode\n",
    "# I also need a bag or a holder for my wonderful keyboard as it is getting bashed\n",
    "\n",
    "my_string = 'Hello World, all of a sudden I am getting better at this'\n",
    "mylist =[]\n",
    "mylist1 = []\n",
    "\n",
    "for x in my_string.split():\n",
    "    mylist.append(x)\n",
    "\n",
    "print(mylist)\n",
    "\n",
    "\n",
    "for y in my_string:\n",
    "    mylist.append(x)\n"
   ]
  }
 ],
 "metadata": {
  "kernelspec": {
   "display_name": "Python 3",
   "language": "python",
   "name": "python3"
  },
  "language_info": {
   "codemirror_mode": {
    "name": "ipython",
    "version": 3
   },
   "file_extension": ".py",
   "mimetype": "text/x-python",
   "name": "python",
   "nbconvert_exporter": "python",
   "pygments_lexer": "ipython3",
   "version": "3.6.6+"
  }
 },
 "nbformat": 4,
 "nbformat_minor": 2
}
